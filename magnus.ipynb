{
 "cells": [
  {
   "cell_type": "code",
   "execution_count": 1,
   "metadata": {},
   "outputs": [],
   "source": [
    "from datetime import datetime as dt\n",
    "import re\n",
    "import pandas as pd"
   ]
  },
  {
   "cell_type": "code",
   "execution_count": 2,
   "metadata": {},
   "outputs": [],
   "source": [
    "with open(\"data/carlsen.pgn\", \"r\") as f:\n",
    "    pgn = f.read()"
   ]
  },
  {
   "cell_type": "code",
   "execution_count": 3,
   "metadata": {},
   "outputs": [],
   "source": [
    "chunks = pgn.split('\\n\\n')"
   ]
  },
  {
   "cell_type": "code",
   "execution_count": 4,
   "metadata": {},
   "outputs": [],
   "source": [
    "info = chunks[::2][:-1]"
   ]
  },
  {
   "cell_type": "code",
   "execution_count": 5,
   "metadata": {},
   "outputs": [
    {
     "data": {
      "text/plain": [
       "'\\ufeff[Event \"FTX Crypto Cup KO\"]\\n[Site \"chess24.com INT\"]\\n[Date \"2021.05.31\"]\\n[Round \"3.33\"]\\n[White \"Carlsen, Magnus\"]\\n[Black \"So, Wesley\"]\\n[Result \"1-0\"]\\n[ECO \"C54\"]\\n[WhiteElo \"2847\"]\\n[BlackElo \"2770\"]\\n[PlyCount \"87\"]\\n[EventDate \"2021.05.26\"]\\n[EventType \"k.o. (rapid)\"]\\n[EventRounds \"3\"]\\n[EventCountry \"GER\"]\\n[SourceTitle \"CB22_2021\"]\\n[SourceDate \"2021.06.02\"]\\n[SourceVersion \"1\"]\\n[SourceVersionDate \"2021.06.02\"]\\n[SourceQuality \"1\"]'"
      ]
     },
     "execution_count": 5,
     "metadata": {},
     "output_type": "execute_result"
    }
   ],
   "source": [
    "info[0]"
   ]
  },
  {
   "cell_type": "code",
   "execution_count": 6,
   "metadata": {},
   "outputs": [],
   "source": [
    "name = \"Carlsen, Magnus\""
   ]
  },
  {
   "cell_type": "code",
   "execution_count": 7,
   "metadata": {},
   "outputs": [],
   "source": [
    "def get_tag(tag, info):\n",
    "    s = rf'{tag} \\\"(.+?)\\\"'\n",
    "    matches = re.search(s, info)\n",
    "    return matches.groups()[0] if matches else None"
   ]
  },
  {
   "cell_type": "code",
   "execution_count": 8,
   "metadata": {},
   "outputs": [],
   "source": [
    "events, rounds, results, opponent_elos, dates = [],[],[],[],[]\n",
    "\n",
    "for game in info:\n",
    "    events.append(get_tag(\"Event\", game))\n",
    "    rounds.append(get_tag(\"Round\", game))\n",
    "    \n",
    "    white = get_tag(\"White\", game)\n",
    "    black = get_tag(\"Black\", game)\n",
    "\n",
    "    result = get_tag(\"Result\", game)\n",
    "\n",
    "    if white == name:\n",
    "        i = 0\n",
    "        opponent_elo = get_tag(\"BlackElo\", game)\n",
    "    elif black == name:\n",
    "        i = 1\n",
    "        opponent_elo = get_tag(\"WhiteElo\", game)\n",
    "    else:\n",
    "        raise Exception(\"No matching player!\")\n",
    "    \n",
    "    opponent_elos.append(opponent_elo)\n",
    "\n",
    "    point_str = result.split('-')[i]\n",
    "    if point_str == \"0\":\n",
    "        points = 0\n",
    "    elif point_str == \"1\":\n",
    "        points = 1\n",
    "    elif point_str == \"1/2\":\n",
    "        points = 0.5\n",
    "    \n",
    "    results.append(points)\n",
    "    \n",
    "    dates.append(dt.strptime(get_tag(\"Date\", game), \"%Y.%m.%d\"))"
   ]
  },
  {
   "cell_type": "code",
   "execution_count": 9,
   "metadata": {},
   "outputs": [],
   "source": [
    "df = pd.DataFrame({\n",
    "    \"Event\": events,\n",
    "    \"Round\": rounds,\n",
    "    \"Result\": results,\n",
    "    \"OpponentELO\": opponent_elos,\n",
    "    \"Date\": dates,\n",
    "})"
   ]
  },
  {
   "cell_type": "code",
   "execution_count": 10,
   "metadata": {},
   "outputs": [
    {
     "data": {
      "text/plain": [
       "(1000, 5)"
      ]
     },
     "execution_count": 10,
     "metadata": {},
     "output_type": "execute_result"
    }
   ],
   "source": [
    "df.shape"
   ]
  },
  {
   "cell_type": "code",
   "execution_count": 11,
   "metadata": {},
   "outputs": [
    {
     "data": {
      "text/html": [
       "<div>\n",
       "<style scoped>\n",
       "    .dataframe tbody tr th:only-of-type {\n",
       "        vertical-align: middle;\n",
       "    }\n",
       "\n",
       "    .dataframe tbody tr th {\n",
       "        vertical-align: top;\n",
       "    }\n",
       "\n",
       "    .dataframe thead th {\n",
       "        text-align: right;\n",
       "    }\n",
       "</style>\n",
       "<table border=\"1\" class=\"dataframe\">\n",
       "  <thead>\n",
       "    <tr style=\"text-align: right;\">\n",
       "      <th></th>\n",
       "      <th>Event</th>\n",
       "      <th>Round</th>\n",
       "      <th>Result</th>\n",
       "      <th>OpponentELO</th>\n",
       "      <th>Date</th>\n",
       "    </tr>\n",
       "  </thead>\n",
       "  <tbody>\n",
       "    <tr>\n",
       "      <th>0</th>\n",
       "      <td>FTX Crypto Cup KO</td>\n",
       "      <td>3.33</td>\n",
       "      <td>1.0</td>\n",
       "      <td>2770</td>\n",
       "      <td>2021-05-31</td>\n",
       "    </tr>\n",
       "    <tr>\n",
       "      <th>1</th>\n",
       "      <td>FTX Crypto Cup KO</td>\n",
       "      <td>3.32</td>\n",
       "      <td>1.0</td>\n",
       "      <td>2770</td>\n",
       "      <td>2021-05-31</td>\n",
       "    </tr>\n",
       "    <tr>\n",
       "      <th>2</th>\n",
       "      <td>FTX Crypto Cup KO</td>\n",
       "      <td>3.31</td>\n",
       "      <td>0.0</td>\n",
       "      <td>2770</td>\n",
       "      <td>2021-05-31</td>\n",
       "    </tr>\n",
       "    <tr>\n",
       "      <th>3</th>\n",
       "      <td>FTX Crypto Cup KO</td>\n",
       "      <td>3.24</td>\n",
       "      <td>0.5</td>\n",
       "      <td>2770</td>\n",
       "      <td>2021-05-31</td>\n",
       "    </tr>\n",
       "    <tr>\n",
       "      <th>4</th>\n",
       "      <td>FTX Crypto Cup KO</td>\n",
       "      <td>3.23</td>\n",
       "      <td>0.5</td>\n",
       "      <td>2770</td>\n",
       "      <td>2021-05-31</td>\n",
       "    </tr>\n",
       "  </tbody>\n",
       "</table>\n",
       "</div>"
      ],
      "text/plain": [
       "               Event Round  Result OpponentELO       Date\n",
       "0  FTX Crypto Cup KO  3.33     1.0        2770 2021-05-31\n",
       "1  FTX Crypto Cup KO  3.32     1.0        2770 2021-05-31\n",
       "2  FTX Crypto Cup KO  3.31     0.0        2770 2021-05-31\n",
       "3  FTX Crypto Cup KO  3.24     0.5        2770 2021-05-31\n",
       "4  FTX Crypto Cup KO  3.23     0.5        2770 2021-05-31"
      ]
     },
     "execution_count": 11,
     "metadata": {},
     "output_type": "execute_result"
    }
   ],
   "source": [
    "df.head()"
   ]
  },
  {
   "cell_type": "code",
   "execution_count": 12,
   "metadata": {},
   "outputs": [
    {
     "data": {
      "text/html": [
       "<div>\n",
       "<style scoped>\n",
       "    .dataframe tbody tr th:only-of-type {\n",
       "        vertical-align: middle;\n",
       "    }\n",
       "\n",
       "    .dataframe tbody tr th {\n",
       "        vertical-align: top;\n",
       "    }\n",
       "\n",
       "    .dataframe thead th {\n",
       "        text-align: right;\n",
       "    }\n",
       "</style>\n",
       "<table border=\"1\" class=\"dataframe\">\n",
       "  <thead>\n",
       "    <tr style=\"text-align: right;\">\n",
       "      <th></th>\n",
       "      <th>Event</th>\n",
       "      <th>Round</th>\n",
       "      <th>Result</th>\n",
       "      <th>OpponentELO</th>\n",
       "      <th>Date</th>\n",
       "    </tr>\n",
       "  </thead>\n",
       "  <tbody>\n",
       "    <tr>\n",
       "      <th>995</th>\n",
       "      <td>Sinquefield Cup playoff2 7th</td>\n",
       "      <td>3</td>\n",
       "      <td>0.0</td>\n",
       "      <td>2805</td>\n",
       "      <td>2019-08-29</td>\n",
       "    </tr>\n",
       "    <tr>\n",
       "      <th>996</th>\n",
       "      <td>Sinquefield Cup playoff1 7th</td>\n",
       "      <td>2</td>\n",
       "      <td>0.5</td>\n",
       "      <td>2805</td>\n",
       "      <td>2019-08-29</td>\n",
       "    </tr>\n",
       "    <tr>\n",
       "      <th>997</th>\n",
       "      <td>Sinquefield Cup playoff1 7th</td>\n",
       "      <td>1</td>\n",
       "      <td>0.5</td>\n",
       "      <td>2805</td>\n",
       "      <td>2019-08-29</td>\n",
       "    </tr>\n",
       "    <tr>\n",
       "      <th>998</th>\n",
       "      <td>Sinquefield Cup 7th</td>\n",
       "      <td>11</td>\n",
       "      <td>1.0</td>\n",
       "      <td>2778</td>\n",
       "      <td>2019-08-28</td>\n",
       "    </tr>\n",
       "    <tr>\n",
       "      <th>999</th>\n",
       "      <td>Sinquefield Cup 7th</td>\n",
       "      <td>10</td>\n",
       "      <td>1.0</td>\n",
       "      <td>2776</td>\n",
       "      <td>2019-08-27</td>\n",
       "    </tr>\n",
       "  </tbody>\n",
       "</table>\n",
       "</div>"
      ],
      "text/plain": [
       "                            Event Round  Result OpponentELO       Date\n",
       "995  Sinquefield Cup playoff2 7th     3     0.0        2805 2019-08-29\n",
       "996  Sinquefield Cup playoff1 7th     2     0.5        2805 2019-08-29\n",
       "997  Sinquefield Cup playoff1 7th     1     0.5        2805 2019-08-29\n",
       "998           Sinquefield Cup 7th    11     1.0        2778 2019-08-28\n",
       "999           Sinquefield Cup 7th    10     1.0        2776 2019-08-27"
      ]
     },
     "execution_count": 12,
     "metadata": {},
     "output_type": "execute_result"
    }
   ],
   "source": [
    "df.tail()"
   ]
  },
  {
   "cell_type": "code",
   "execution_count": 43,
   "metadata": {},
   "outputs": [
    {
     "data": {
      "text/plain": [
       "Timestamp('2021-05-31 00:00:00')"
      ]
     },
     "execution_count": 43,
     "metadata": {},
     "output_type": "execute_result"
    }
   ],
   "source": [
    "df['Date'].max()"
   ]
  },
  {
   "cell_type": "code",
   "execution_count": 44,
   "metadata": {},
   "outputs": [
    {
     "data": {
      "text/plain": [
       "Timestamp('2019-08-28 00:00:00')"
      ]
     },
     "execution_count": 44,
     "metadata": {},
     "output_type": "execute_result"
    }
   ],
   "source": [
    "df['Date'].min()"
   ]
  },
  {
   "cell_type": "code",
   "execution_count": 15,
   "metadata": {},
   "outputs": [],
   "source": [
    "df = df[df['Round'] != \"?\"] # remove events without round information"
   ]
  },
  {
   "cell_type": "code",
   "execution_count": 16,
   "metadata": {},
   "outputs": [
    {
     "data": {
      "text/plain": [
       "(982, 5)"
      ]
     },
     "execution_count": 16,
     "metadata": {},
     "output_type": "execute_result"
    }
   ],
   "source": [
    "df.shape"
   ]
  },
  {
   "cell_type": "markdown",
   "metadata": {},
   "source": [
    "The Chessbase database has some rounds in a format like 3.33, etc. To get the proper round order I split the round column into two parts."
   ]
  },
  {
   "cell_type": "code",
   "execution_count": 17,
   "metadata": {},
   "outputs": [],
   "source": [
    "df['r1'] = df['Round'].apply(lambda r: int(r.split('.')[0]))\n",
    "df['r2'] = df['Round'].apply(lambda r: int(r.split('.')[-1]) if '.' in r else 0)\n",
    "df = df.sort_values([\"Event\", \"r1\", \"r2\"]).reset_index(drop=True)"
   ]
  },
  {
   "cell_type": "code",
   "execution_count": 18,
   "metadata": {},
   "outputs": [
    {
     "data": {
      "text/html": [
       "<div>\n",
       "<style scoped>\n",
       "    .dataframe tbody tr th:only-of-type {\n",
       "        vertical-align: middle;\n",
       "    }\n",
       "\n",
       "    .dataframe tbody tr th {\n",
       "        vertical-align: top;\n",
       "    }\n",
       "\n",
       "    .dataframe thead th {\n",
       "        text-align: right;\n",
       "    }\n",
       "</style>\n",
       "<table border=\"1\" class=\"dataframe\">\n",
       "  <thead>\n",
       "    <tr style=\"text-align: right;\">\n",
       "      <th></th>\n",
       "      <th>Event</th>\n",
       "      <th>Round</th>\n",
       "      <th>Result</th>\n",
       "      <th>OpponentELO</th>\n",
       "      <th>Date</th>\n",
       "      <th>r1</th>\n",
       "      <th>r2</th>\n",
       "    </tr>\n",
       "  </thead>\n",
       "  <tbody>\n",
       "    <tr>\n",
       "      <th>0</th>\n",
       "      <td>Airthings Masters KO</td>\n",
       "      <td>1.11</td>\n",
       "      <td>1.0</td>\n",
       "      <td>2702</td>\n",
       "      <td>2020-12-29</td>\n",
       "      <td>1</td>\n",
       "      <td>11</td>\n",
       "    </tr>\n",
       "    <tr>\n",
       "      <th>1</th>\n",
       "      <td>Airthings Masters KO</td>\n",
       "      <td>1.12</td>\n",
       "      <td>0.5</td>\n",
       "      <td>2702</td>\n",
       "      <td>2020-12-29</td>\n",
       "      <td>1</td>\n",
       "      <td>12</td>\n",
       "    </tr>\n",
       "    <tr>\n",
       "      <th>2</th>\n",
       "      <td>Airthings Masters KO</td>\n",
       "      <td>1.13</td>\n",
       "      <td>0.0</td>\n",
       "      <td>2702</td>\n",
       "      <td>2020-12-29</td>\n",
       "      <td>1</td>\n",
       "      <td>13</td>\n",
       "    </tr>\n",
       "    <tr>\n",
       "      <th>3</th>\n",
       "      <td>Airthings Masters KO</td>\n",
       "      <td>1.14</td>\n",
       "      <td>0.5</td>\n",
       "      <td>2702</td>\n",
       "      <td>2020-12-29</td>\n",
       "      <td>1</td>\n",
       "      <td>14</td>\n",
       "    </tr>\n",
       "    <tr>\n",
       "      <th>4</th>\n",
       "      <td>Airthings Masters KO</td>\n",
       "      <td>1.21</td>\n",
       "      <td>0.0</td>\n",
       "      <td>2702</td>\n",
       "      <td>2020-12-30</td>\n",
       "      <td>1</td>\n",
       "      <td>21</td>\n",
       "    </tr>\n",
       "  </tbody>\n",
       "</table>\n",
       "</div>"
      ],
      "text/plain": [
       "                  Event Round  Result OpponentELO       Date  r1  r2\n",
       "0  Airthings Masters KO  1.11     1.0        2702 2020-12-29   1  11\n",
       "1  Airthings Masters KO  1.12     0.5        2702 2020-12-29   1  12\n",
       "2  Airthings Masters KO  1.13     0.0        2702 2020-12-29   1  13\n",
       "3  Airthings Masters KO  1.14     0.5        2702 2020-12-29   1  14\n",
       "4  Airthings Masters KO  1.21     0.0        2702 2020-12-30   1  21"
      ]
     },
     "execution_count": 18,
     "metadata": {},
     "output_type": "execute_result"
    }
   ],
   "source": [
    "df.head()"
   ]
  },
  {
   "cell_type": "code",
   "execution_count": 19,
   "metadata": {},
   "outputs": [
    {
     "data": {
      "text/html": [
       "<div>\n",
       "<style scoped>\n",
       "    .dataframe tbody tr th:only-of-type {\n",
       "        vertical-align: middle;\n",
       "    }\n",
       "\n",
       "    .dataframe tbody tr th {\n",
       "        vertical-align: top;\n",
       "    }\n",
       "\n",
       "    .dataframe thead th {\n",
       "        text-align: right;\n",
       "    }\n",
       "</style>\n",
       "<table border=\"1\" class=\"dataframe\">\n",
       "  <thead>\n",
       "    <tr style=\"text-align: right;\">\n",
       "      <th></th>\n",
       "      <th>Event</th>\n",
       "      <th>Round</th>\n",
       "      <th>Result</th>\n",
       "      <th>OpponentELO</th>\n",
       "      <th>Date</th>\n",
       "      <th>r1</th>\n",
       "      <th>r2</th>\n",
       "    </tr>\n",
       "  </thead>\n",
       "  <tbody>\n",
       "    <tr>\n",
       "      <th>977</th>\n",
       "      <td>Wch Rapid</td>\n",
       "      <td>13</td>\n",
       "      <td>1.0</td>\n",
       "      <td>2772</td>\n",
       "      <td>2019-12-28</td>\n",
       "      <td>13</td>\n",
       "      <td>0</td>\n",
       "    </tr>\n",
       "    <tr>\n",
       "      <th>978</th>\n",
       "      <td>Wch Rapid</td>\n",
       "      <td>14</td>\n",
       "      <td>0.5</td>\n",
       "      <td>2758</td>\n",
       "      <td>2019-12-28</td>\n",
       "      <td>14</td>\n",
       "      <td>0</td>\n",
       "    </tr>\n",
       "    <tr>\n",
       "      <th>979</th>\n",
       "      <td>Wch Rapid</td>\n",
       "      <td>15</td>\n",
       "      <td>0.5</td>\n",
       "      <td>2736</td>\n",
       "      <td>2019-12-28</td>\n",
       "      <td>15</td>\n",
       "      <td>0</td>\n",
       "    </tr>\n",
       "    <tr>\n",
       "      <th>980</th>\n",
       "      <td>World Blitz 2019</td>\n",
       "      <td>12.2</td>\n",
       "      <td>1.0</td>\n",
       "      <td>2731</td>\n",
       "      <td>2019-12-29</td>\n",
       "      <td>12</td>\n",
       "      <td>2</td>\n",
       "    </tr>\n",
       "    <tr>\n",
       "      <th>981</th>\n",
       "      <td>World Rapid 2019</td>\n",
       "      <td>12.1</td>\n",
       "      <td>1.0</td>\n",
       "      <td>2775</td>\n",
       "      <td>2019-12-28</td>\n",
       "      <td>12</td>\n",
       "      <td>1</td>\n",
       "    </tr>\n",
       "  </tbody>\n",
       "</table>\n",
       "</div>"
      ],
      "text/plain": [
       "                Event Round  Result OpponentELO       Date  r1  r2\n",
       "977         Wch Rapid    13     1.0        2772 2019-12-28  13   0\n",
       "978         Wch Rapid    14     0.5        2758 2019-12-28  14   0\n",
       "979         Wch Rapid    15     0.5        2736 2019-12-28  15   0\n",
       "980  World Blitz 2019  12.2     1.0        2731 2019-12-29  12   2\n",
       "981  World Rapid 2019  12.1     1.0        2775 2019-12-28  12   1"
      ]
     },
     "execution_count": 19,
     "metadata": {},
     "output_type": "execute_result"
    }
   ],
   "source": [
    "df.tail()"
   ]
  },
  {
   "cell_type": "code",
   "execution_count": 20,
   "metadata": {},
   "outputs": [],
   "source": [
    "df.to_csv(\"tmp.csv\", index=False)"
   ]
  },
  {
   "cell_type": "code",
   "execution_count": 21,
   "metadata": {},
   "outputs": [],
   "source": [
    "# remove bullet and simuls\n",
    "df['Event'] = df['Event'].str.lower()\n",
    "df = df[~df[\"Event\"].str.contains('bullet')]\n",
    "df = df[~df[\"Event\"].str.contains('simul')]"
   ]
  },
  {
   "cell_type": "code",
   "execution_count": 22,
   "metadata": {},
   "outputs": [
    {
     "data": {
      "text/plain": [
       "(808, 7)"
      ]
     },
     "execution_count": 22,
     "metadata": {},
     "output_type": "execute_result"
    }
   ],
   "source": [
    "df.shape"
   ]
  },
  {
   "cell_type": "code",
   "execution_count": 23,
   "metadata": {},
   "outputs": [],
   "source": [
    "df['OpponentELO'] = df['OpponentELO'].astype('int')"
   ]
  },
  {
   "cell_type": "code",
   "execution_count": 24,
   "metadata": {},
   "outputs": [],
   "source": [
    "df['previous'] = df['Result'].shift()"
   ]
  },
  {
   "cell_type": "code",
   "execution_count": 25,
   "metadata": {},
   "outputs": [
    {
     "data": {
      "text/html": [
       "<div>\n",
       "<style scoped>\n",
       "    .dataframe tbody tr th:only-of-type {\n",
       "        vertical-align: middle;\n",
       "    }\n",
       "\n",
       "    .dataframe tbody tr th {\n",
       "        vertical-align: top;\n",
       "    }\n",
       "\n",
       "    .dataframe thead th {\n",
       "        text-align: right;\n",
       "    }\n",
       "</style>\n",
       "<table border=\"1\" class=\"dataframe\">\n",
       "  <thead>\n",
       "    <tr style=\"text-align: right;\">\n",
       "      <th></th>\n",
       "      <th>Event</th>\n",
       "      <th>Round</th>\n",
       "      <th>Result</th>\n",
       "      <th>OpponentELO</th>\n",
       "      <th>Date</th>\n",
       "      <th>r1</th>\n",
       "      <th>r2</th>\n",
       "      <th>previous</th>\n",
       "    </tr>\n",
       "  </thead>\n",
       "  <tbody>\n",
       "    <tr>\n",
       "      <th>0</th>\n",
       "      <td>airthings masters ko</td>\n",
       "      <td>1.11</td>\n",
       "      <td>1.0</td>\n",
       "      <td>2702</td>\n",
       "      <td>2020-12-29</td>\n",
       "      <td>1</td>\n",
       "      <td>11</td>\n",
       "      <td>NaN</td>\n",
       "    </tr>\n",
       "    <tr>\n",
       "      <th>1</th>\n",
       "      <td>airthings masters ko</td>\n",
       "      <td>1.12</td>\n",
       "      <td>0.5</td>\n",
       "      <td>2702</td>\n",
       "      <td>2020-12-29</td>\n",
       "      <td>1</td>\n",
       "      <td>12</td>\n",
       "      <td>1.0</td>\n",
       "    </tr>\n",
       "    <tr>\n",
       "      <th>2</th>\n",
       "      <td>airthings masters ko</td>\n",
       "      <td>1.13</td>\n",
       "      <td>0.0</td>\n",
       "      <td>2702</td>\n",
       "      <td>2020-12-29</td>\n",
       "      <td>1</td>\n",
       "      <td>13</td>\n",
       "      <td>0.5</td>\n",
       "    </tr>\n",
       "    <tr>\n",
       "      <th>3</th>\n",
       "      <td>airthings masters ko</td>\n",
       "      <td>1.14</td>\n",
       "      <td>0.5</td>\n",
       "      <td>2702</td>\n",
       "      <td>2020-12-29</td>\n",
       "      <td>1</td>\n",
       "      <td>14</td>\n",
       "      <td>0.0</td>\n",
       "    </tr>\n",
       "    <tr>\n",
       "      <th>4</th>\n",
       "      <td>airthings masters ko</td>\n",
       "      <td>1.21</td>\n",
       "      <td>0.0</td>\n",
       "      <td>2702</td>\n",
       "      <td>2020-12-30</td>\n",
       "      <td>1</td>\n",
       "      <td>21</td>\n",
       "      <td>0.5</td>\n",
       "    </tr>\n",
       "  </tbody>\n",
       "</table>\n",
       "</div>"
      ],
      "text/plain": [
       "                  Event Round  Result  OpponentELO       Date  r1  r2  \\\n",
       "0  airthings masters ko  1.11     1.0         2702 2020-12-29   1  11   \n",
       "1  airthings masters ko  1.12     0.5         2702 2020-12-29   1  12   \n",
       "2  airthings masters ko  1.13     0.0         2702 2020-12-29   1  13   \n",
       "3  airthings masters ko  1.14     0.5         2702 2020-12-29   1  14   \n",
       "4  airthings masters ko  1.21     0.0         2702 2020-12-30   1  21   \n",
       "\n",
       "   previous  \n",
       "0       NaN  \n",
       "1       1.0  \n",
       "2       0.5  \n",
       "3       0.0  \n",
       "4       0.5  "
      ]
     },
     "execution_count": 25,
     "metadata": {},
     "output_type": "execute_result"
    }
   ],
   "source": [
    "df.head()"
   ]
  },
  {
   "cell_type": "code",
   "execution_count": 26,
   "metadata": {},
   "outputs": [],
   "source": [
    "df = df.reset_index(drop=True)"
   ]
  },
  {
   "cell_type": "code",
   "execution_count": 27,
   "metadata": {},
   "outputs": [],
   "source": [
    "df.to_csv(\"tmp.csv\")"
   ]
  },
  {
   "cell_type": "markdown",
   "metadata": {},
   "source": [
    "Now that the previous round data has been computed, remove the first round from each event."
   ]
  },
  {
   "cell_type": "code",
   "execution_count": 28,
   "metadata": {},
   "outputs": [],
   "source": [
    "first_rounds = df.reset_index().groupby('Event').first()['index'].values\n",
    "df = df.drop(index=first_rounds)"
   ]
  },
  {
   "cell_type": "code",
   "execution_count": 29,
   "metadata": {},
   "outputs": [
    {
     "data": {
      "text/plain": [
       "(763, 8)"
      ]
     },
     "execution_count": 29,
     "metadata": {},
     "output_type": "execute_result"
    }
   ],
   "source": [
    "df.shape"
   ]
  },
  {
   "cell_type": "code",
   "execution_count": 30,
   "metadata": {},
   "outputs": [],
   "source": [
    "df.to_csv(\"tmp.csv\", index=False)"
   ]
  },
  {
   "cell_type": "code",
   "execution_count": 31,
   "metadata": {},
   "outputs": [],
   "source": [
    "def perf_rating(p, rc): # https://en.wikipedia.org/wiki/Performance_rating_(chess) - linear method\n",
    "    dp = (800 * p) - 400\n",
    "    pr = rc + dp\n",
    "    return pr"
   ]
  },
  {
   "cell_type": "code",
   "execution_count": 32,
   "metadata": {},
   "outputs": [],
   "source": [
    "win = df[df['previous'] == 1]\n",
    "loss = df[df['previous'] == 0]\n",
    "draw = df[df['previous'] == 0.5]"
   ]
  },
  {
   "cell_type": "code",
   "execution_count": 33,
   "metadata": {},
   "outputs": [
    {
     "data": {
      "text/plain": [
       "(336, 116, 311)"
      ]
     },
     "execution_count": 33,
     "metadata": {},
     "output_type": "execute_result"
    }
   ],
   "source": [
    "len(win), len(loss), len(draw)"
   ]
  },
  {
   "cell_type": "code",
   "execution_count": 34,
   "metadata": {},
   "outputs": [],
   "source": [
    "def get_stats(df):\n",
    "    p = df['Result'].mean()\n",
    "    rc = df['OpponentELO'].mean()\n",
    "    pr = perf_rating(p, rc)\n",
    "    return p, pr"
   ]
  },
  {
   "cell_type": "code",
   "execution_count": 35,
   "metadata": {},
   "outputs": [],
   "source": [
    "score_df = pd.DataFrame(columns = ['Win', 'Loss', 'Draw'])\n",
    "perf_df = pd.DataFrame(columns = ['Win', 'Loss', 'Draw'])"
   ]
  },
  {
   "cell_type": "code",
   "execution_count": 36,
   "metadata": {},
   "outputs": [],
   "source": [
    "# perf_df = pd.read_csv(\"perf.csv\", index_col=0)\n",
    "# score_df = pd.read_csv(\"score.csv\", index_col=0)"
   ]
  },
  {
   "cell_type": "code",
   "execution_count": 37,
   "metadata": {},
   "outputs": [],
   "source": [
    "score_df.loc[name, 'Win'], perf_df.loc[name, 'Win'] = get_stats(win)\n",
    "score_df.loc[name, 'Draw'], perf_df.loc[name, 'Draw'] = get_stats(draw)\n",
    "score_df.loc[name, 'Loss'], perf_df.loc[name, 'Loss'] = get_stats(loss)"
   ]
  },
  {
   "cell_type": "code",
   "execution_count": 38,
   "metadata": {},
   "outputs": [],
   "source": [
    "score_df = score_df.astype(\"float\").round(2)"
   ]
  },
  {
   "cell_type": "code",
   "execution_count": 39,
   "metadata": {},
   "outputs": [],
   "source": [
    "perf_df = perf_df.round().astype(\"int\")"
   ]
  },
  {
   "cell_type": "code",
   "execution_count": 40,
   "metadata": {},
   "outputs": [
    {
     "data": {
      "text/html": [
       "<div>\n",
       "<style scoped>\n",
       "    .dataframe tbody tr th:only-of-type {\n",
       "        vertical-align: middle;\n",
       "    }\n",
       "\n",
       "    .dataframe tbody tr th {\n",
       "        vertical-align: top;\n",
       "    }\n",
       "\n",
       "    .dataframe thead th {\n",
       "        text-align: right;\n",
       "    }\n",
       "</style>\n",
       "<table border=\"1\" class=\"dataframe\">\n",
       "  <thead>\n",
       "    <tr style=\"text-align: right;\">\n",
       "      <th></th>\n",
       "      <th>Win</th>\n",
       "      <th>Loss</th>\n",
       "      <th>Draw</th>\n",
       "    </tr>\n",
       "  </thead>\n",
       "  <tbody>\n",
       "    <tr>\n",
       "      <th>Carlsen, Magnus</th>\n",
       "      <td>0.65</td>\n",
       "      <td>0.72</td>\n",
       "      <td>0.61</td>\n",
       "    </tr>\n",
       "  </tbody>\n",
       "</table>\n",
       "</div>"
      ],
      "text/plain": [
       "                  Win  Loss  Draw\n",
       "Carlsen, Magnus  0.65  0.72  0.61"
      ]
     },
     "execution_count": 40,
     "metadata": {},
     "output_type": "execute_result"
    }
   ],
   "source": [
    "score_df"
   ]
  },
  {
   "cell_type": "code",
   "execution_count": 41,
   "metadata": {},
   "outputs": [
    {
     "data": {
      "text/html": [
       "<div>\n",
       "<style scoped>\n",
       "    .dataframe tbody tr th:only-of-type {\n",
       "        vertical-align: middle;\n",
       "    }\n",
       "\n",
       "    .dataframe tbody tr th {\n",
       "        vertical-align: top;\n",
       "    }\n",
       "\n",
       "    .dataframe thead th {\n",
       "        text-align: right;\n",
       "    }\n",
       "</style>\n",
       "<table border=\"1\" class=\"dataframe\">\n",
       "  <thead>\n",
       "    <tr style=\"text-align: right;\">\n",
       "      <th></th>\n",
       "      <th>Win</th>\n",
       "      <th>Loss</th>\n",
       "      <th>Draw</th>\n",
       "    </tr>\n",
       "  </thead>\n",
       "  <tbody>\n",
       "    <tr>\n",
       "      <th>Carlsen, Magnus</th>\n",
       "      <td>2854</td>\n",
       "      <td>2920</td>\n",
       "      <td>2830</td>\n",
       "    </tr>\n",
       "  </tbody>\n",
       "</table>\n",
       "</div>"
      ],
      "text/plain": [
       "                  Win  Loss  Draw\n",
       "Carlsen, Magnus  2854  2920  2830"
      ]
     },
     "execution_count": 41,
     "metadata": {},
     "output_type": "execute_result"
    }
   ],
   "source": [
    "perf_df"
   ]
  },
  {
   "cell_type": "code",
   "execution_count": 42,
   "metadata": {},
   "outputs": [],
   "source": [
    "# score_df.to_csv(\"score.csv\")\n",
    "# perf_df.to_csv(\"perf.csv\")"
   ]
  },
  {
   "cell_type": "code",
   "execution_count": null,
   "metadata": {},
   "outputs": [],
   "source": []
  }
 ],
 "metadata": {
  "kernelspec": {
   "display_name": "Python 3",
   "language": "python",
   "name": "python3"
  },
  "language_info": {
   "codemirror_mode": {
    "name": "ipython",
    "version": 3
   },
   "file_extension": ".py",
   "mimetype": "text/x-python",
   "name": "python",
   "nbconvert_exporter": "python",
   "pygments_lexer": "ipython3",
   "version": "3.9.2"
  }
 },
 "nbformat": 4,
 "nbformat_minor": 4
}

{
 "cells": [
  {
   "cell_type": "code",
   "execution_count": 1,
   "metadata": {},
   "outputs": [],
   "source": [
    "import re\n",
    "import pandas as pd"
   ]
  },
  {
   "cell_type": "code",
   "execution_count": 2,
   "metadata": {},
   "outputs": [],
   "source": [
    "with open(\"data/giri.pgn\", \"r\") as f:\n",
    "    pgn = f.read()"
   ]
  },
  {
   "cell_type": "code",
   "execution_count": 3,
   "metadata": {},
   "outputs": [],
   "source": [
    "chunks = pgn.split('\\n\\n')"
   ]
  },
  {
   "cell_type": "code",
   "execution_count": 4,
   "metadata": {},
   "outputs": [],
   "source": [
    "info = chunks[::2][:-1]"
   ]
  },
  {
   "cell_type": "code",
   "execution_count": 5,
   "metadata": {},
   "outputs": [
    {
     "data": {
      "text/plain": [
       "'\\ufeff[Event \"FTX Crypto Cup KO\"]\\n[Site \"chess24.com INT\"]\\n[Date \"2021.05.27\"]\\n[Round \"1.24\"]\\n[White \"Giri, Anish\"]\\n[Black \"Radjabov, Teimour\"]\\n[Result \"1/2-1/2\"]\\n[ECO \"C65\"]\\n[WhiteElo \"2780\"]\\n[BlackElo \"2765\"]\\n[PlyCount \"115\"]\\n[EventDate \"2021.05.26\"]\\n[EventType \"k.o. (rapid)\"]\\n[EventRounds \"3\"]\\n[EventCountry \"GER\"]\\n[SourceTitle \"CB22_2021\"]\\n[SourceDate \"2021.06.02\"]\\n[SourceVersion \"1\"]\\n[SourceVersionDate \"2021.06.02\"]\\n[SourceQuality \"1\"]'"
      ]
     },
     "execution_count": 5,
     "metadata": {},
     "output_type": "execute_result"
    }
   ],
   "source": [
    "info[0]"
   ]
  },
  {
   "cell_type": "code",
   "execution_count": 6,
   "metadata": {},
   "outputs": [],
   "source": [
    "name = \"Giri, Anish\""
   ]
  },
  {
   "cell_type": "code",
   "execution_count": 7,
   "metadata": {},
   "outputs": [],
   "source": [
    "moves = chunks[1::2]"
   ]
  },
  {
   "cell_type": "code",
   "execution_count": 8,
   "metadata": {},
   "outputs": [],
   "source": [
    "def get_tag(tag, info):\n",
    "    s = rf'{tag} \\\"(.+?)\\\"'\n",
    "    matches = re.search(s, info)\n",
    "    return matches.groups()[0] if matches else None"
   ]
  },
  {
   "cell_type": "code",
   "execution_count": 9,
   "metadata": {},
   "outputs": [],
   "source": [
    "events, rounds, results, opponent_elos = [],[],[],[]"
   ]
  },
  {
   "cell_type": "code",
   "execution_count": 10,
   "metadata": {},
   "outputs": [],
   "source": [
    "for game in info:\n",
    "    events.append(get_tag(\"Event\", game))\n",
    "    rounds.append(get_tag(\"Round\", game))\n",
    "    \n",
    "    white = get_tag(\"White\", game)\n",
    "    black = get_tag(\"Black\", game)\n",
    "\n",
    "    result = get_tag(\"Result\", game)\n",
    "\n",
    "    if white == name:\n",
    "        i = 0\n",
    "        opponent_elo = get_tag(\"BlackElo\", game)\n",
    "    elif black == name:\n",
    "        i = 1\n",
    "        opponent_elo = get_tag(\"WhiteElo\", game)\n",
    "    else:\n",
    "        raise Exception(\"No matching player!\")\n",
    "\n",
    "    point_str = result.split('-')[i]\n",
    "    if point_str == \"0\":\n",
    "        points = 0\n",
    "    elif point_str == \"1\":\n",
    "        points = 1\n",
    "    elif point_str == \"1/2\":\n",
    "        points = 0.5\n",
    "    \n",
    "    results.append(points)\n",
    "    \n",
    "    opponent_elos.append(opponent_elo)"
   ]
  },
  {
   "cell_type": "code",
   "execution_count": 11,
   "metadata": {},
   "outputs": [],
   "source": [
    "df = pd.DataFrame({\n",
    "    \"Event\": events,\n",
    "    \"Round\": rounds,\n",
    "    \"Result\": results,\n",
    "    \"OpponentELO\": opponent_elos\n",
    "})"
   ]
  },
  {
   "cell_type": "code",
   "execution_count": 12,
   "metadata": {},
   "outputs": [
    {
     "data": {
      "text/plain": [
       "(1000, 4)"
      ]
     },
     "execution_count": 12,
     "metadata": {},
     "output_type": "execute_result"
    }
   ],
   "source": [
    "df.shape"
   ]
  },
  {
   "cell_type": "code",
   "execution_count": 13,
   "metadata": {},
   "outputs": [
    {
     "data": {
      "text/html": [
       "<div>\n",
       "<style scoped>\n",
       "    .dataframe tbody tr th:only-of-type {\n",
       "        vertical-align: middle;\n",
       "    }\n",
       "\n",
       "    .dataframe tbody tr th {\n",
       "        vertical-align: top;\n",
       "    }\n",
       "\n",
       "    .dataframe thead th {\n",
       "        text-align: right;\n",
       "    }\n",
       "</style>\n",
       "<table border=\"1\" class=\"dataframe\">\n",
       "  <thead>\n",
       "    <tr style=\"text-align: right;\">\n",
       "      <th></th>\n",
       "      <th>Event</th>\n",
       "      <th>Round</th>\n",
       "      <th>Result</th>\n",
       "      <th>OpponentELO</th>\n",
       "    </tr>\n",
       "  </thead>\n",
       "  <tbody>\n",
       "    <tr>\n",
       "      <th>0</th>\n",
       "      <td>FTX Crypto Cup KO</td>\n",
       "      <td>1.24</td>\n",
       "      <td>0.5</td>\n",
       "      <td>2765</td>\n",
       "    </tr>\n",
       "    <tr>\n",
       "      <th>1</th>\n",
       "      <td>FTX Crypto Cup KO</td>\n",
       "      <td>1.23</td>\n",
       "      <td>0.5</td>\n",
       "      <td>2765</td>\n",
       "    </tr>\n",
       "    <tr>\n",
       "      <th>2</th>\n",
       "      <td>FTX Crypto Cup KO</td>\n",
       "      <td>1.22</td>\n",
       "      <td>0.5</td>\n",
       "      <td>2765</td>\n",
       "    </tr>\n",
       "    <tr>\n",
       "      <th>3</th>\n",
       "      <td>FTX Crypto Cup KO</td>\n",
       "      <td>1.21</td>\n",
       "      <td>0.5</td>\n",
       "      <td>2765</td>\n",
       "    </tr>\n",
       "    <tr>\n",
       "      <th>4</th>\n",
       "      <td>FTX Crypto Cup KO</td>\n",
       "      <td>1.14</td>\n",
       "      <td>0.0</td>\n",
       "      <td>2765</td>\n",
       "    </tr>\n",
       "  </tbody>\n",
       "</table>\n",
       "</div>"
      ],
      "text/plain": [
       "               Event Round  Result OpponentELO\n",
       "0  FTX Crypto Cup KO  1.24     0.5        2765\n",
       "1  FTX Crypto Cup KO  1.23     0.5        2765\n",
       "2  FTX Crypto Cup KO  1.22     0.5        2765\n",
       "3  FTX Crypto Cup KO  1.21     0.5        2765\n",
       "4  FTX Crypto Cup KO  1.14     0.0        2765"
      ]
     },
     "execution_count": 13,
     "metadata": {},
     "output_type": "execute_result"
    }
   ],
   "source": [
    "df.head()"
   ]
  },
  {
   "cell_type": "code",
   "execution_count": 14,
   "metadata": {},
   "outputs": [
    {
     "data": {
      "text/html": [
       "<div>\n",
       "<style scoped>\n",
       "    .dataframe tbody tr th:only-of-type {\n",
       "        vertical-align: middle;\n",
       "    }\n",
       "\n",
       "    .dataframe tbody tr th {\n",
       "        vertical-align: top;\n",
       "    }\n",
       "\n",
       "    .dataframe thead th {\n",
       "        text-align: right;\n",
       "    }\n",
       "</style>\n",
       "<table border=\"1\" class=\"dataframe\">\n",
       "  <thead>\n",
       "    <tr style=\"text-align: right;\">\n",
       "      <th></th>\n",
       "      <th>Event</th>\n",
       "      <th>Round</th>\n",
       "      <th>Result</th>\n",
       "      <th>OpponentELO</th>\n",
       "    </tr>\n",
       "  </thead>\n",
       "  <tbody>\n",
       "    <tr>\n",
       "      <th>995</th>\n",
       "      <td>Palma de Mallorca FIDE GP</td>\n",
       "      <td>4</td>\n",
       "      <td>0.0</td>\n",
       "      <td>2801</td>\n",
       "    </tr>\n",
       "    <tr>\n",
       "      <th>996</th>\n",
       "      <td>Palma de Mallorca FIDE GP</td>\n",
       "      <td>7</td>\n",
       "      <td>0.5</td>\n",
       "      <td>2774</td>\n",
       "    </tr>\n",
       "    <tr>\n",
       "      <th>997</th>\n",
       "      <td>Palma de Mallorca FIDE GP</td>\n",
       "      <td>2</td>\n",
       "      <td>0.5</td>\n",
       "      <td>2796</td>\n",
       "    </tr>\n",
       "    <tr>\n",
       "      <th>998</th>\n",
       "      <td>Douglas IoM op</td>\n",
       "      <td>3</td>\n",
       "      <td>0.5</td>\n",
       "      <td>2600</td>\n",
       "    </tr>\n",
       "    <tr>\n",
       "      <th>999</th>\n",
       "      <td>Palma de Mallorca FIDE GP</td>\n",
       "      <td>8</td>\n",
       "      <td>0.0</td>\n",
       "      <td>2741</td>\n",
       "    </tr>\n",
       "  </tbody>\n",
       "</table>\n",
       "</div>"
      ],
      "text/plain": [
       "                         Event Round  Result OpponentELO\n",
       "995  Palma de Mallorca FIDE GP     4     0.0        2801\n",
       "996  Palma de Mallorca FIDE GP     7     0.5        2774\n",
       "997  Palma de Mallorca FIDE GP     2     0.5        2796\n",
       "998             Douglas IoM op     3     0.5        2600\n",
       "999  Palma de Mallorca FIDE GP     8     0.0        2741"
      ]
     },
     "execution_count": 14,
     "metadata": {},
     "output_type": "execute_result"
    }
   ],
   "source": [
    "df.tail()"
   ]
  },
  {
   "cell_type": "code",
   "execution_count": 15,
   "metadata": {},
   "outputs": [],
   "source": [
    "def round2float(r):\n",
    "    try:\n",
    "        r2 = float(r)\n",
    "    except:\n",
    "        r2 = None\n",
    "    return r2"
   ]
  },
  {
   "cell_type": "code",
   "execution_count": 16,
   "metadata": {},
   "outputs": [],
   "source": [
    "df['r2'] = df['Round'].apply(round2float)"
   ]
  },
  {
   "cell_type": "code",
   "execution_count": 17,
   "metadata": {},
   "outputs": [],
   "source": [
    "df = df.sort_values([\"Event\", \"r2\"]).reset_index(drop=True)"
   ]
  },
  {
   "cell_type": "code",
   "execution_count": 18,
   "metadata": {},
   "outputs": [
    {
     "data": {
      "text/html": [
       "<div>\n",
       "<style scoped>\n",
       "    .dataframe tbody tr th:only-of-type {\n",
       "        vertical-align: middle;\n",
       "    }\n",
       "\n",
       "    .dataframe tbody tr th {\n",
       "        vertical-align: top;\n",
       "    }\n",
       "\n",
       "    .dataframe thead th {\n",
       "        text-align: right;\n",
       "    }\n",
       "</style>\n",
       "<table border=\"1\" class=\"dataframe\">\n",
       "  <thead>\n",
       "    <tr style=\"text-align: right;\">\n",
       "      <th></th>\n",
       "      <th>Event</th>\n",
       "      <th>Round</th>\n",
       "      <th>Result</th>\n",
       "      <th>OpponentELO</th>\n",
       "      <th>r2</th>\n",
       "    </tr>\n",
       "  </thead>\n",
       "  <tbody>\n",
       "    <tr>\n",
       "      <th>0</th>\n",
       "      <td>Abu Dhabi Super Blitz op 1st</td>\n",
       "      <td>5</td>\n",
       "      <td>1.0</td>\n",
       "      <td>2542</td>\n",
       "      <td>5.0</td>\n",
       "    </tr>\n",
       "    <tr>\n",
       "      <th>1</th>\n",
       "      <td>Abu Dhabi Super Blitz op 1st</td>\n",
       "      <td>8</td>\n",
       "      <td>1.0</td>\n",
       "      <td>2630</td>\n",
       "      <td>8.0</td>\n",
       "    </tr>\n",
       "    <tr>\n",
       "      <th>2</th>\n",
       "      <td>Abu Dhabi Super Blitz op 1st</td>\n",
       "      <td>9</td>\n",
       "      <td>0.5</td>\n",
       "      <td>2736</td>\n",
       "      <td>9.0</td>\n",
       "    </tr>\n",
       "    <tr>\n",
       "      <th>3</th>\n",
       "      <td>Abu Dhabi Super Blitz op 1st</td>\n",
       "      <td>10</td>\n",
       "      <td>0.0</td>\n",
       "      <td>2716</td>\n",
       "      <td>10.0</td>\n",
       "    </tr>\n",
       "    <tr>\n",
       "      <th>4</th>\n",
       "      <td>Airthings Masters Prelim</td>\n",
       "      <td>1</td>\n",
       "      <td>0.5</td>\n",
       "      <td>2784</td>\n",
       "      <td>1.0</td>\n",
       "    </tr>\n",
       "  </tbody>\n",
       "</table>\n",
       "</div>"
      ],
      "text/plain": [
       "                          Event Round  Result OpponentELO    r2\n",
       "0  Abu Dhabi Super Blitz op 1st     5     1.0        2542   5.0\n",
       "1  Abu Dhabi Super Blitz op 1st     8     1.0        2630   8.0\n",
       "2  Abu Dhabi Super Blitz op 1st     9     0.5        2736   9.0\n",
       "3  Abu Dhabi Super Blitz op 1st    10     0.0        2716  10.0\n",
       "4      Airthings Masters Prelim     1     0.5        2784   1.0"
      ]
     },
     "execution_count": 18,
     "metadata": {},
     "output_type": "execute_result"
    }
   ],
   "source": [
    "df.head()"
   ]
  },
  {
   "cell_type": "code",
   "execution_count": 19,
   "metadata": {},
   "outputs": [
    {
     "data": {
      "text/html": [
       "<div>\n",
       "<style scoped>\n",
       "    .dataframe tbody tr th:only-of-type {\n",
       "        vertical-align: middle;\n",
       "    }\n",
       "\n",
       "    .dataframe tbody tr th {\n",
       "        vertical-align: top;\n",
       "    }\n",
       "\n",
       "    .dataframe thead th {\n",
       "        text-align: right;\n",
       "    }\n",
       "</style>\n",
       "<table border=\"1\" class=\"dataframe\">\n",
       "  <thead>\n",
       "    <tr style=\"text-align: right;\">\n",
       "      <th></th>\n",
       "      <th>Event</th>\n",
       "      <th>Round</th>\n",
       "      <th>Result</th>\n",
       "      <th>OpponentELO</th>\n",
       "      <th>r2</th>\n",
       "    </tr>\n",
       "  </thead>\n",
       "  <tbody>\n",
       "    <tr>\n",
       "      <th>995</th>\n",
       "      <td>chess.com Speed 5m+1spm 2018</td>\n",
       "      <td>2.4</td>\n",
       "      <td>0.5</td>\n",
       "      <td>2767</td>\n",
       "      <td>2.4</td>\n",
       "    </tr>\n",
       "    <tr>\n",
       "      <th>996</th>\n",
       "      <td>chess.com Speed 5m+1spm 2018</td>\n",
       "      <td>2.5</td>\n",
       "      <td>0.0</td>\n",
       "      <td>2767</td>\n",
       "      <td>2.5</td>\n",
       "    </tr>\n",
       "    <tr>\n",
       "      <th>997</th>\n",
       "      <td>chess.com Speed 5m+1spm 2018</td>\n",
       "      <td>2.6</td>\n",
       "      <td>0.0</td>\n",
       "      <td>2767</td>\n",
       "      <td>2.6</td>\n",
       "    </tr>\n",
       "    <tr>\n",
       "      <th>998</th>\n",
       "      <td>chess.com Speed 5m+1spm 2018</td>\n",
       "      <td>2.7</td>\n",
       "      <td>1.0</td>\n",
       "      <td>2767</td>\n",
       "      <td>2.7</td>\n",
       "    </tr>\n",
       "    <tr>\n",
       "      <th>999</th>\n",
       "      <td>chess.com Speed 5m+1spm 2018</td>\n",
       "      <td>2.8</td>\n",
       "      <td>0.0</td>\n",
       "      <td>2767</td>\n",
       "      <td>2.8</td>\n",
       "    </tr>\n",
       "  </tbody>\n",
       "</table>\n",
       "</div>"
      ],
      "text/plain": [
       "                            Event Round  Result OpponentELO   r2\n",
       "995  chess.com Speed 5m+1spm 2018   2.4     0.5        2767  2.4\n",
       "996  chess.com Speed 5m+1spm 2018   2.5     0.0        2767  2.5\n",
       "997  chess.com Speed 5m+1spm 2018   2.6     0.0        2767  2.6\n",
       "998  chess.com Speed 5m+1spm 2018   2.7     1.0        2767  2.7\n",
       "999  chess.com Speed 5m+1spm 2018   2.8     0.0        2767  2.8"
      ]
     },
     "execution_count": 19,
     "metadata": {},
     "output_type": "execute_result"
    }
   ],
   "source": [
    "df.tail()"
   ]
  },
  {
   "cell_type": "code",
   "execution_count": 20,
   "metadata": {},
   "outputs": [],
   "source": [
    "df = df[~df[\"Event\"].str.contains('Bullet')] # no bullet"
   ]
  },
  {
   "cell_type": "code",
   "execution_count": 21,
   "metadata": {},
   "outputs": [],
   "source": [
    "df['OpponentELO'] = df['OpponentELO'].astype('int')"
   ]
  },
  {
   "cell_type": "code",
   "execution_count": 22,
   "metadata": {},
   "outputs": [],
   "source": [
    "df['previous'] = df['Result'].shift()"
   ]
  },
  {
   "cell_type": "code",
   "execution_count": 23,
   "metadata": {},
   "outputs": [
    {
     "data": {
      "text/html": [
       "<div>\n",
       "<style scoped>\n",
       "    .dataframe tbody tr th:only-of-type {\n",
       "        vertical-align: middle;\n",
       "    }\n",
       "\n",
       "    .dataframe tbody tr th {\n",
       "        vertical-align: top;\n",
       "    }\n",
       "\n",
       "    .dataframe thead th {\n",
       "        text-align: right;\n",
       "    }\n",
       "</style>\n",
       "<table border=\"1\" class=\"dataframe\">\n",
       "  <thead>\n",
       "    <tr style=\"text-align: right;\">\n",
       "      <th></th>\n",
       "      <th>Event</th>\n",
       "      <th>Round</th>\n",
       "      <th>Result</th>\n",
       "      <th>OpponentELO</th>\n",
       "      <th>r2</th>\n",
       "      <th>previous</th>\n",
       "    </tr>\n",
       "  </thead>\n",
       "  <tbody>\n",
       "    <tr>\n",
       "      <th>0</th>\n",
       "      <td>Abu Dhabi Super Blitz op 1st</td>\n",
       "      <td>5</td>\n",
       "      <td>1.0</td>\n",
       "      <td>2542</td>\n",
       "      <td>5.0</td>\n",
       "      <td>NaN</td>\n",
       "    </tr>\n",
       "    <tr>\n",
       "      <th>1</th>\n",
       "      <td>Abu Dhabi Super Blitz op 1st</td>\n",
       "      <td>8</td>\n",
       "      <td>1.0</td>\n",
       "      <td>2630</td>\n",
       "      <td>8.0</td>\n",
       "      <td>1.0</td>\n",
       "    </tr>\n",
       "    <tr>\n",
       "      <th>2</th>\n",
       "      <td>Abu Dhabi Super Blitz op 1st</td>\n",
       "      <td>9</td>\n",
       "      <td>0.5</td>\n",
       "      <td>2736</td>\n",
       "      <td>9.0</td>\n",
       "      <td>1.0</td>\n",
       "    </tr>\n",
       "    <tr>\n",
       "      <th>3</th>\n",
       "      <td>Abu Dhabi Super Blitz op 1st</td>\n",
       "      <td>10</td>\n",
       "      <td>0.0</td>\n",
       "      <td>2716</td>\n",
       "      <td>10.0</td>\n",
       "      <td>0.5</td>\n",
       "    </tr>\n",
       "    <tr>\n",
       "      <th>4</th>\n",
       "      <td>Airthings Masters Prelim</td>\n",
       "      <td>1</td>\n",
       "      <td>0.5</td>\n",
       "      <td>2784</td>\n",
       "      <td>1.0</td>\n",
       "      <td>0.0</td>\n",
       "    </tr>\n",
       "  </tbody>\n",
       "</table>\n",
       "</div>"
      ],
      "text/plain": [
       "                          Event Round  Result  OpponentELO    r2  previous\n",
       "0  Abu Dhabi Super Blitz op 1st     5     1.0         2542   5.0       NaN\n",
       "1  Abu Dhabi Super Blitz op 1st     8     1.0         2630   8.0       1.0\n",
       "2  Abu Dhabi Super Blitz op 1st     9     0.5         2736   9.0       1.0\n",
       "3  Abu Dhabi Super Blitz op 1st    10     0.0         2716  10.0       0.5\n",
       "4      Airthings Masters Prelim     1     0.5         2784   1.0       0.0"
      ]
     },
     "execution_count": 23,
     "metadata": {},
     "output_type": "execute_result"
    }
   ],
   "source": [
    "df.head()"
   ]
  },
  {
   "cell_type": "code",
   "execution_count": 24,
   "metadata": {},
   "outputs": [],
   "source": [
    "events = df['Event'].unique()"
   ]
  },
  {
   "cell_type": "code",
   "execution_count": 25,
   "metadata": {},
   "outputs": [],
   "source": [
    "idxs = []\n",
    "for e in events:\n",
    "    idxs.append(df[df.Event == e].iloc[0].name)"
   ]
  },
  {
   "cell_type": "code",
   "execution_count": 26,
   "metadata": {},
   "outputs": [],
   "source": [
    "df = df.drop(index=idxs)"
   ]
  },
  {
   "cell_type": "code",
   "execution_count": 27,
   "metadata": {},
   "outputs": [
    {
     "data": {
      "text/plain": [
       "(913, 6)"
      ]
     },
     "execution_count": 27,
     "metadata": {},
     "output_type": "execute_result"
    }
   ],
   "source": [
    "df.shape"
   ]
  },
  {
   "cell_type": "code",
   "execution_count": 28,
   "metadata": {},
   "outputs": [],
   "source": [
    "df.to_csv(\"tmp.csv\", index=False)"
   ]
  },
  {
   "cell_type": "code",
   "execution_count": 29,
   "metadata": {},
   "outputs": [],
   "source": [
    "def perf_rating(p, rc):\n",
    "    dp = (800 * p) - 400\n",
    "    pr = rc + dp\n",
    "    return pr"
   ]
  },
  {
   "cell_type": "code",
   "execution_count": 30,
   "metadata": {},
   "outputs": [],
   "source": [
    "win = df[df['previous'] == 1]\n",
    "loss = df[df['previous'] == 0]\n",
    "draw = df[df['previous'] == 0.5]"
   ]
  },
  {
   "cell_type": "code",
   "execution_count": 31,
   "metadata": {},
   "outputs": [],
   "source": [
    "def get_stats(df):\n",
    "    p = df.Result.mean()\n",
    "    rc = df.OpponentELO.mean()\n",
    "    pr = perf_rating(p, rc)\n",
    "    return p, pr"
   ]
  },
  {
   "cell_type": "code",
   "execution_count": 32,
   "metadata": {},
   "outputs": [],
   "source": [
    "# score_df = pd.DataFrame(columns = ['Win', 'Loss', 'Draw'])\n",
    "# perf_df = pd.DataFrame(columns = ['Win', 'Loss', 'Draw'])"
   ]
  },
  {
   "cell_type": "code",
   "execution_count": 33,
   "metadata": {},
   "outputs": [],
   "source": [
    "perf_df = pd.read_csv(\"perf.csv\", index_col=0)\n",
    "score_df = pd.read_csv(\"score.csv\", index_col=0)"
   ]
  },
  {
   "cell_type": "code",
   "execution_count": 34,
   "metadata": {},
   "outputs": [],
   "source": [
    "p, pr = get_stats(win)"
   ]
  },
  {
   "cell_type": "code",
   "execution_count": 35,
   "metadata": {},
   "outputs": [],
   "source": [
    "score_df.loc[name, 'Win'] = p"
   ]
  },
  {
   "cell_type": "code",
   "execution_count": 36,
   "metadata": {},
   "outputs": [],
   "source": [
    "perf_df.loc[name, 'Win'] = pr"
   ]
  },
  {
   "cell_type": "code",
   "execution_count": 37,
   "metadata": {},
   "outputs": [],
   "source": [
    "p, pr = get_stats(draw)"
   ]
  },
  {
   "cell_type": "code",
   "execution_count": 38,
   "metadata": {},
   "outputs": [],
   "source": [
    "score_df.loc[name, 'Draw'] = p"
   ]
  },
  {
   "cell_type": "code",
   "execution_count": 39,
   "metadata": {},
   "outputs": [],
   "source": [
    "perf_df.loc[name, 'Draw'] = pr"
   ]
  },
  {
   "cell_type": "code",
   "execution_count": 40,
   "metadata": {},
   "outputs": [],
   "source": [
    "p, pr = get_stats(loss)"
   ]
  },
  {
   "cell_type": "code",
   "execution_count": 41,
   "metadata": {},
   "outputs": [],
   "source": [
    "score_df.loc[name, 'Loss'] = p"
   ]
  },
  {
   "cell_type": "code",
   "execution_count": 42,
   "metadata": {},
   "outputs": [],
   "source": [
    "perf_df.loc[name, 'Loss'] = pr"
   ]
  },
  {
   "cell_type": "code",
   "execution_count": 65,
   "metadata": {},
   "outputs": [],
   "source": [
    "score_df = score_df.round(2)"
   ]
  },
  {
   "cell_type": "code",
   "execution_count": 62,
   "metadata": {},
   "outputs": [],
   "source": [
    "perf_df = perf_df.round().astype(\"int\")"
   ]
  },
  {
   "cell_type": "code",
   "execution_count": 66,
   "metadata": {},
   "outputs": [],
   "source": [
    "score_df.to_csv(\"score.csv\")"
   ]
  },
  {
   "cell_type": "code",
   "execution_count": 63,
   "metadata": {},
   "outputs": [],
   "source": [
    "perf_df.to_csv(\"perf.csv\")"
   ]
  },
  {
   "cell_type": "code",
   "execution_count": 67,
   "metadata": {},
   "outputs": [
    {
     "data": {
      "text/html": [
       "<div>\n",
       "<style scoped>\n",
       "    .dataframe tbody tr th:only-of-type {\n",
       "        vertical-align: middle;\n",
       "    }\n",
       "\n",
       "    .dataframe tbody tr th {\n",
       "        vertical-align: top;\n",
       "    }\n",
       "\n",
       "    .dataframe thead th {\n",
       "        text-align: right;\n",
       "    }\n",
       "</style>\n",
       "<table border=\"1\" class=\"dataframe\">\n",
       "  <thead>\n",
       "    <tr style=\"text-align: right;\">\n",
       "      <th></th>\n",
       "      <th>Win</th>\n",
       "      <th>Loss</th>\n",
       "      <th>Draw</th>\n",
       "    </tr>\n",
       "  </thead>\n",
       "  <tbody>\n",
       "    <tr>\n",
       "      <th>Carlsen, Magnus</th>\n",
       "      <td>0.66</td>\n",
       "      <td>0.73</td>\n",
       "      <td>0.60</td>\n",
       "    </tr>\n",
       "    <tr>\n",
       "      <th>Caruana, Fabiano</th>\n",
       "      <td>0.58</td>\n",
       "      <td>0.47</td>\n",
       "      <td>0.56</td>\n",
       "    </tr>\n",
       "    <tr>\n",
       "      <th>Giri, Anish</th>\n",
       "      <td>0.55</td>\n",
       "      <td>0.55</td>\n",
       "      <td>0.52</td>\n",
       "    </tr>\n",
       "    <tr>\n",
       "      <th>Nepomniachtchi, Ian</th>\n",
       "      <td>0.58</td>\n",
       "      <td>0.54</td>\n",
       "      <td>0.55</td>\n",
       "    </tr>\n",
       "  </tbody>\n",
       "</table>\n",
       "</div>"
      ],
      "text/plain": [
       "                      Win  Loss  Draw\n",
       "Carlsen, Magnus      0.66  0.73  0.60\n",
       "Caruana, Fabiano     0.58  0.47  0.56\n",
       "Giri, Anish          0.55  0.55  0.52\n",
       "Nepomniachtchi, Ian  0.58  0.54  0.55"
      ]
     },
     "execution_count": 67,
     "metadata": {},
     "output_type": "execute_result"
    }
   ],
   "source": [
    "score_df"
   ]
  },
  {
   "cell_type": "code",
   "execution_count": 69,
   "metadata": {},
   "outputs": [
    {
     "data": {
      "text/html": [
       "<div>\n",
       "<style scoped>\n",
       "    .dataframe tbody tr th:only-of-type {\n",
       "        vertical-align: middle;\n",
       "    }\n",
       "\n",
       "    .dataframe tbody tr th {\n",
       "        vertical-align: top;\n",
       "    }\n",
       "\n",
       "    .dataframe thead th {\n",
       "        text-align: right;\n",
       "    }\n",
       "</style>\n",
       "<table border=\"1\" class=\"dataframe\">\n",
       "  <thead>\n",
       "    <tr style=\"text-align: right;\">\n",
       "      <th></th>\n",
       "      <th>Win</th>\n",
       "      <th>Loss</th>\n",
       "      <th>Draw</th>\n",
       "    </tr>\n",
       "  </thead>\n",
       "  <tbody>\n",
       "    <tr>\n",
       "      <th>Carlsen, Magnus</th>\n",
       "      <td>2854</td>\n",
       "      <td>2924</td>\n",
       "      <td>2826</td>\n",
       "    </tr>\n",
       "    <tr>\n",
       "      <th>Caruana, Fabiano</th>\n",
       "      <td>2785</td>\n",
       "      <td>2727</td>\n",
       "      <td>2801</td>\n",
       "    </tr>\n",
       "    <tr>\n",
       "      <th>Giri, Anish</th>\n",
       "      <td>2745</td>\n",
       "      <td>2769</td>\n",
       "      <td>2754</td>\n",
       "    </tr>\n",
       "    <tr>\n",
       "      <th>Nepomniachtchi, Ian</th>\n",
       "      <td>2788</td>\n",
       "      <td>2776</td>\n",
       "      <td>2786</td>\n",
       "    </tr>\n",
       "  </tbody>\n",
       "</table>\n",
       "</div>"
      ],
      "text/plain": [
       "                      Win  Loss  Draw\n",
       "Carlsen, Magnus      2854  2924  2826\n",
       "Caruana, Fabiano     2785  2727  2801\n",
       "Giri, Anish          2745  2769  2754\n",
       "Nepomniachtchi, Ian  2788  2776  2786"
      ]
     },
     "execution_count": 69,
     "metadata": {},
     "output_type": "execute_result"
    }
   ],
   "source": [
    "perf_df"
   ]
  },
  {
   "cell_type": "code",
   "execution_count": null,
   "metadata": {},
   "outputs": [],
   "source": []
  }
 ],
 "metadata": {
  "kernelspec": {
   "display_name": "Python 3",
   "language": "python",
   "name": "python3"
  },
  "language_info": {
   "codemirror_mode": {
    "name": "ipython",
    "version": 3
   },
   "file_extension": ".py",
   "mimetype": "text/x-python",
   "name": "python",
   "nbconvert_exporter": "python",
   "pygments_lexer": "ipython3",
   "version": "3.9.0b5"
  }
 },
 "nbformat": 4,
 "nbformat_minor": 4
}
